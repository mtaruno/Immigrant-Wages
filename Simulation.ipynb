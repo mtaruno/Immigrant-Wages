{
 "cells": [
  {
   "cell_type": "code",
   "execution_count": 15,
   "metadata": {},
   "outputs": [],
   "source": [
    "import pandas as pd\n",
    "import numpy as np"
   ]
  },
  {
   "cell_type": "code",
   "execution_count": 4,
   "metadata": {},
   "outputs": [],
   "source": [
    "data = pd.io.stata.read_stata('replication_data.dta')"
   ]
  },
  {
   "cell_type": "code",
   "execution_count": 44,
   "metadata": {},
   "outputs": [
    {
     "data": {
      "text/plain": [
       "3378291"
      ]
     },
     "execution_count": 44,
     "metadata": {},
     "output_type": "execute_result"
    }
   ],
   "source": [
    "data.count()[0]"
   ]
  },
  {
   "cell_type": "code",
   "execution_count": 51,
   "metadata": {},
   "outputs": [
    {
     "data": {
      "text/plain": [
       "Index(['year', 'sex', 'age', 'marst', 'bpl', 'bpld', 'citizen', 'yrimmig',\n",
       "       'yrsusa1', 'speakeng', 'educd', 'degfield', 'wkswork2', 'uhrswork',\n",
       "       'incwage', 'educ', 'lowgdp', 'colony', 'brcol', 'frcol', 'saharan',\n",
       "       'simul_wages'],\n",
       "      dtype='object')"
      ]
     },
     "execution_count": 51,
     "metadata": {},
     "output_type": "execute_result"
    }
   ],
   "source": [
    "data.columns"
   ]
  },
  {
   "cell_type": "code",
   "execution_count": 9,
   "metadata": {},
   "outputs": [],
   "source": [
    "eleven_states = ['Washington','New York','Maryland','California','Georgia','Minnesota','Massachusetts','Texas','Virginia','New Jersey','Illinios']\n",
    "sub_saharan = [191148,150424,146092,138654,95422,93071,92008,91228,83864,67128,63499]\n",
    "salary = [63680,40460,40710,38920,32510,37390,43830,32880,29040,40250,35720]"
   ]
  },
  {
   "cell_type": "code",
   "execution_count": 53,
   "metadata": {},
   "outputs": [
    {
     "data": {
      "text/html": [
       "<div>\n",
       "<style scoped>\n",
       "    .dataframe tbody tr th:only-of-type {\n",
       "        vertical-align: middle;\n",
       "    }\n",
       "\n",
       "    .dataframe tbody tr th {\n",
       "        vertical-align: top;\n",
       "    }\n",
       "\n",
       "    .dataframe thead th {\n",
       "        text-align: right;\n",
       "    }\n",
       "</style>\n",
       "<table border=\"1\" class=\"dataframe\">\n",
       "  <thead>\n",
       "    <tr style=\"text-align: right;\">\n",
       "      <th></th>\n",
       "      <th>Eleven States</th>\n",
       "      <th>Sub Saharan African Population</th>\n",
       "      <th>Median State Salary</th>\n",
       "    </tr>\n",
       "  </thead>\n",
       "  <tbody>\n",
       "    <tr>\n",
       "      <th>0</th>\n",
       "      <td>Washington</td>\n",
       "      <td>191148</td>\n",
       "      <td>63680</td>\n",
       "    </tr>\n",
       "    <tr>\n",
       "      <th>1</th>\n",
       "      <td>New York</td>\n",
       "      <td>150424</td>\n",
       "      <td>40460</td>\n",
       "    </tr>\n",
       "    <tr>\n",
       "      <th>2</th>\n",
       "      <td>Maryland</td>\n",
       "      <td>146092</td>\n",
       "      <td>40710</td>\n",
       "    </tr>\n",
       "    <tr>\n",
       "      <th>3</th>\n",
       "      <td>California</td>\n",
       "      <td>138654</td>\n",
       "      <td>38920</td>\n",
       "    </tr>\n",
       "    <tr>\n",
       "      <th>4</th>\n",
       "      <td>Georgia</td>\n",
       "      <td>95422</td>\n",
       "      <td>32510</td>\n",
       "    </tr>\n",
       "    <tr>\n",
       "      <th>5</th>\n",
       "      <td>Minnesota</td>\n",
       "      <td>93071</td>\n",
       "      <td>37390</td>\n",
       "    </tr>\n",
       "    <tr>\n",
       "      <th>6</th>\n",
       "      <td>Massachusetts</td>\n",
       "      <td>92008</td>\n",
       "      <td>43830</td>\n",
       "    </tr>\n",
       "    <tr>\n",
       "      <th>7</th>\n",
       "      <td>Texas</td>\n",
       "      <td>91228</td>\n",
       "      <td>32880</td>\n",
       "    </tr>\n",
       "    <tr>\n",
       "      <th>8</th>\n",
       "      <td>Virginia</td>\n",
       "      <td>83864</td>\n",
       "      <td>29040</td>\n",
       "    </tr>\n",
       "    <tr>\n",
       "      <th>9</th>\n",
       "      <td>New Jersey</td>\n",
       "      <td>67128</td>\n",
       "      <td>40250</td>\n",
       "    </tr>\n",
       "    <tr>\n",
       "      <th>10</th>\n",
       "      <td>Illinios</td>\n",
       "      <td>63499</td>\n",
       "      <td>35720</td>\n",
       "    </tr>\n",
       "  </tbody>\n",
       "</table>\n",
       "</div>"
      ],
      "text/plain": [
       "    Eleven States  Sub Saharan African Population  Median State Salary\n",
       "0      Washington                          191148                63680\n",
       "1        New York                          150424                40460\n",
       "2        Maryland                          146092                40710\n",
       "3      California                          138654                38920\n",
       "4         Georgia                           95422                32510\n",
       "5       Minnesota                           93071                37390\n",
       "6   Massachusetts                           92008                43830\n",
       "7           Texas                           91228                32880\n",
       "8        Virginia                           83864                29040\n",
       "9      New Jersey                           67128                40250\n",
       "10       Illinios                           63499                35720"
      ]
     },
     "execution_count": 53,
     "metadata": {},
     "output_type": "execute_result"
    }
   ],
   "source": [
    "df = pd.DataFrame({'Eleven States': eleven_states, 'Sub Saharan African Population': sub_saharan, 'Median State Salary': salary})\n",
    "df"
   ]
  },
  {
   "cell_type": "code",
   "execution_count": 56,
   "metadata": {},
   "outputs": [
    {
     "data": {
      "text/html": [
       "<div>\n",
       "<style scoped>\n",
       "    .dataframe tbody tr th:only-of-type {\n",
       "        vertical-align: middle;\n",
       "    }\n",
       "\n",
       "    .dataframe tbody tr th {\n",
       "        vertical-align: top;\n",
       "    }\n",
       "\n",
       "    .dataframe thead th {\n",
       "        text-align: right;\n",
       "    }\n",
       "</style>\n",
       "<table border=\"1\" class=\"dataframe\">\n",
       "  <thead>\n",
       "    <tr style=\"text-align: right;\">\n",
       "      <th></th>\n",
       "      <th>Eleven States</th>\n",
       "      <th>Sub Saharan African Population</th>\n",
       "      <th>Median State Salary</th>\n",
       "      <th>p</th>\n",
       "    </tr>\n",
       "  </thead>\n",
       "  <tbody>\n",
       "    <tr>\n",
       "      <th>0</th>\n",
       "      <td>Washington</td>\n",
       "      <td>191148</td>\n",
       "      <td>63680</td>\n",
       "      <td>15.764289</td>\n",
       "    </tr>\n",
       "    <tr>\n",
       "      <th>1</th>\n",
       "      <td>New York</td>\n",
       "      <td>150424</td>\n",
       "      <td>40460</td>\n",
       "      <td>12.405714</td>\n",
       "    </tr>\n",
       "    <tr>\n",
       "      <th>2</th>\n",
       "      <td>Maryland</td>\n",
       "      <td>146092</td>\n",
       "      <td>40710</td>\n",
       "      <td>12.048447</td>\n",
       "    </tr>\n",
       "    <tr>\n",
       "      <th>3</th>\n",
       "      <td>California</td>\n",
       "      <td>138654</td>\n",
       "      <td>38920</td>\n",
       "      <td>11.435023</td>\n",
       "    </tr>\n",
       "    <tr>\n",
       "      <th>4</th>\n",
       "      <td>Georgia</td>\n",
       "      <td>95422</td>\n",
       "      <td>32510</td>\n",
       "      <td>7.869609</td>\n",
       "    </tr>\n",
       "    <tr>\n",
       "      <th>5</th>\n",
       "      <td>Minnesota</td>\n",
       "      <td>93071</td>\n",
       "      <td>37390</td>\n",
       "      <td>7.675718</td>\n",
       "    </tr>\n",
       "    <tr>\n",
       "      <th>6</th>\n",
       "      <td>Massachusetts</td>\n",
       "      <td>92008</td>\n",
       "      <td>43830</td>\n",
       "      <td>7.588051</td>\n",
       "    </tr>\n",
       "    <tr>\n",
       "      <th>7</th>\n",
       "      <td>Texas</td>\n",
       "      <td>91228</td>\n",
       "      <td>32880</td>\n",
       "      <td>7.523723</td>\n",
       "    </tr>\n",
       "    <tr>\n",
       "      <th>8</th>\n",
       "      <td>Virginia</td>\n",
       "      <td>83864</td>\n",
       "      <td>29040</td>\n",
       "      <td>6.916402</td>\n",
       "    </tr>\n",
       "    <tr>\n",
       "      <th>9</th>\n",
       "      <td>New Jersey</td>\n",
       "      <td>67128</td>\n",
       "      <td>40250</td>\n",
       "      <td>5.536156</td>\n",
       "    </tr>\n",
       "    <tr>\n",
       "      <th>10</th>\n",
       "      <td>Illinios</td>\n",
       "      <td>63499</td>\n",
       "      <td>35720</td>\n",
       "      <td>5.236867</td>\n",
       "    </tr>\n",
       "  </tbody>\n",
       "</table>\n",
       "</div>"
      ],
      "text/plain": [
       "    Eleven States  Sub Saharan African Population  Median State Salary  \\\n",
       "0      Washington                          191148                63680   \n",
       "1        New York                          150424                40460   \n",
       "2        Maryland                          146092                40710   \n",
       "3      California                          138654                38920   \n",
       "4         Georgia                           95422                32510   \n",
       "5       Minnesota                           93071                37390   \n",
       "6   Massachusetts                           92008                43830   \n",
       "7           Texas                           91228                32880   \n",
       "8        Virginia                           83864                29040   \n",
       "9      New Jersey                           67128                40250   \n",
       "10       Illinios                           63499                35720   \n",
       "\n",
       "            p  \n",
       "0   15.764289  \n",
       "1   12.405714  \n",
       "2   12.048447  \n",
       "3   11.435023  \n",
       "4    7.869609  \n",
       "5    7.675718  \n",
       "6    7.588051  \n",
       "7    7.523723  \n",
       "8    6.916402  \n",
       "9    5.536156  \n",
       "10   5.236867  "
      ]
     },
     "execution_count": 56,
     "metadata": {},
     "output_type": "execute_result"
    }
   ],
   "source": [
    "# Creating probability distribution\n",
    "p = [i/sum(sub_saharan) * 100 for i in sub_saharan]\n",
    "df[\"p\"] = p\n",
    "df"
   ]
  },
  {
   "cell_type": "code",
   "execution_count": null,
   "metadata": {},
   "outputs": [],
   "source": [
    "p"
   ]
  },
  {
   "cell_type": "code",
   "execution_count": 49,
   "metadata": {},
   "outputs": [],
   "source": [
    "simul_wages = [np.random.choice(df[\"Median State Salary\"], p=p) for i in range(data.count()[0])]\n"
   ]
  },
  {
   "cell_type": "code",
   "execution_count": 50,
   "metadata": {},
   "outputs": [
    {
     "name": "stderr",
     "output_type": "stream",
     "text": [
      "/Users/matthewtaruno/anaconda3/lib/python3.6/site-packages/pandas/io/stata.py:687: ValueLabelTypeMismatch: \n",
      "Stata value labels (pandas categories) must be strings. Column yrsusa1 contains\n",
      "non-string labels which will be converted to strings.  Please check that the\n",
      "Stata data file created has not lost information due to duplicate labels.\n",
      "\n",
      "  ValueLabelTypeMismatch,\n"
     ]
    }
   ],
   "source": [
    "data[\"simul_wages\"] = simul_wages\n",
    "data = data[[\"simul_wages\"]]\n",
    "data.to_stata(\"modified_replication_data.dta\")"
   ]
  }
 ],
 "metadata": {
  "kernelspec": {
   "display_name": "Python 3",
   "language": "python",
   "name": "python3"
  },
  "language_info": {
   "codemirror_mode": {
    "name": "ipython",
    "version": 3
   },
   "file_extension": ".py",
   "mimetype": "text/x-python",
   "name": "python",
   "nbconvert_exporter": "python",
   "pygments_lexer": "ipython3",
   "version": "3.6.5"
  },
  "toc": {
   "base_numbering": 1,
   "nav_menu": {},
   "number_sections": false,
   "sideBar": false,
   "skip_h1_title": false,
   "title_cell": "Table of Contents",
   "title_sidebar": "Contents",
   "toc_cell": false,
   "toc_position": {},
   "toc_section_display": false,
   "toc_window_display": false
  }
 },
 "nbformat": 4,
 "nbformat_minor": 2
}
